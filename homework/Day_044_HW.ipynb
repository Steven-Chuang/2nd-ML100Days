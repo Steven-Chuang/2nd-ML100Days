{
 "cells": [
  {
   "cell_type": "markdown",
   "metadata": {},
   "source": [
    "## [作業重點]\n",
    "確保你了解隨機森林模型中每個超參數的意義，並觀察調整超參數對結果的影響"
   ]
  },
  {
   "cell_type": "markdown",
   "metadata": {},
   "source": [
    "## 作業\n",
    "\n",
    "1. 試著調整 RandomForestClassifier(...) 中的參數，並觀察是否會改變結果？\n",
    "2. 改用其他資料集 (boston, wine)，並與回歸模型與決策樹的結果進行比較"
   ]
  },
  {
   "cell_type": "code",
   "execution_count": 1,
   "metadata": {},
   "outputs": [],
   "source": [
    "from sklearn import datasets, metrics\n",
    "from sklearn.ensemble import RandomForestRegressor\n",
    "from sklearn.model_selection import train_test_split\n",
    "\n",
    "from sklearn.metrics import mean_squared_error, r2_score"
   ]
  },
  {
   "cell_type": "code",
   "execution_count": 2,
   "metadata": {},
   "outputs": [],
   "source": [
    "# 讀取boston資料集\n",
    "boston = datasets.load_boston()\n",
    "# 切分訓練集/測試集\n",
    "x_train, x_test, y_train, y_test = train_test_split(boston.data, boston.target, test_size=0.1, random_state=4)\n",
    "# 建立模型 (使用 20 顆樹，每棵樹的最大深度為 4)\n",
    "clf = RandomForestRegressor(max_depth=126, random_state=4, n_estimators=100)\n",
    "# 訓練模型\n",
    "clf.fit(x_train, y_train)\n",
    "# 預測測試集\n",
    "y_pred = clf.predict(x_test)"
   ]
  },
  {
   "cell_type": "code",
   "execution_count": 3,
   "metadata": {},
   "outputs": [
    {
     "name": "stdout",
     "output_type": "stream",
     "text": [
      "Mean squared error: 9.87\n"
     ]
    }
   ],
   "source": [
    "# 預測值與實際值的差距，使用 MSE\n",
    "print(\"Mean squared error: %.2f\"\n",
    "      % mean_squared_error(y_test, y_pred))"
   ]
  },
  {
   "cell_type": "code",
   "execution_count": 6,
   "metadata": {},
   "outputs": [],
   "source": [
    "from sklearn.ensemble import RandomForestClassifier"
   ]
  },
  {
   "cell_type": "code",
   "execution_count": 7,
   "metadata": {},
   "outputs": [],
   "source": [
    "def train_and_evaluate(classifier, dataset, name):\n",
    "    print(\"\\n[%s]---------------\" % name)\n",
    "    x_train, x_test, y_train, y_test = train_test_split(dataset.data, dataset.target, \n",
    "                                                        test_size=0.25, random_state=4)\n",
    "    classifier.fit(x_train, y_train)\n",
    "    y_pred = classifier.predict(x_test)\n",
    "    acc = metrics.accuracy_score(y_test, y_pred)\n",
    "    print(\"Accuracy: \", acc)\n",
    "    print(\"Feature importance:\")\n",
    "    for i in range(len(dataset.feature_names)):\n",
    "        print(\"%s = %f\" % (dataset.feature_names[i], classifier.feature_importances_[i]))"
   ]
  },
  {
   "cell_type": "code",
   "execution_count": 9,
   "metadata": {},
   "outputs": [
    {
     "name": "stdout",
     "output_type": "stream",
     "text": [
      "using iris dataset\n",
      "\n",
      "[n_estimators=15, max_depth=4]---------------\n",
      "Accuracy:  0.9736842105263158\n",
      "Feature importance:\n",
      "sepal length (cm) = 0.067696\n",
      "sepal width (cm) = 0.032786\n",
      "petal length (cm) = 0.511020\n",
      "petal width (cm) = 0.388498\n",
      "\n",
      "[n_estimators=10, max_depth=4]---------------\n",
      "Accuracy:  0.9473684210526315\n",
      "Feature importance:\n",
      "sepal length (cm) = 0.039506\n",
      "sepal width (cm) = 0.009543\n",
      "petal length (cm) = 0.371543\n",
      "petal width (cm) = 0.579407\n",
      "\n",
      "[n_estimators=5, max_depth=4]---------------\n",
      "Accuracy:  0.9736842105263158\n",
      "Feature importance:\n",
      "sepal length (cm) = 0.088256\n",
      "sepal width (cm) = 0.010715\n",
      "petal length (cm) = 0.397367\n",
      "petal width (cm) = 0.503662\n",
      "\n",
      "[n_estimators=1, max_depth=4]---------------\n",
      "Accuracy:  0.9736842105263158\n",
      "Feature importance:\n",
      "sepal length (cm) = 0.000000\n",
      "sepal width (cm) = 0.000000\n",
      "petal length (cm) = 0.932355\n",
      "petal width (cm) = 0.067645\n"
     ]
    }
   ],
   "source": [
    "iris = datasets.load_iris()\n",
    "print(\"using iris dataset\")\n",
    "\n",
    "clf = RandomForestClassifier(n_estimators=15, max_depth=4)\n",
    "train_and_evaluate(clf, iris, name='n_estimators=15, max_depth=4')\n",
    "\n",
    "clf = RandomForestClassifier(n_estimators=10, max_depth=4)\n",
    "train_and_evaluate(clf, iris, name='n_estimators=10, max_depth=4')\n",
    "\n",
    "clf = RandomForestClassifier(n_estimators=5, max_depth=4)\n",
    "train_and_evaluate(clf, iris, name='n_estimators=5, max_depth=4')\n",
    "\n",
    "clf = RandomForestClassifier(n_estimators=1, max_depth=4)\n",
    "train_and_evaluate(clf, iris, name='n_estimators=1, max_depth=4')"
   ]
  },
  {
   "cell_type": "code",
   "execution_count": 10,
   "metadata": {},
   "outputs": [
    {
     "name": "stdout",
     "output_type": "stream",
     "text": [
      "using wine dataset\n",
      "\n",
      "[n_estimators=15, max_depth=4]---------------\n",
      "Accuracy:  1.0\n",
      "Feature importance:\n",
      "alcohol = 0.168491\n",
      "malic_acid = 0.025036\n",
      "ash = 0.021571\n",
      "alcalinity_of_ash = 0.065818\n",
      "magnesium = 0.020088\n",
      "total_phenols = 0.072796\n",
      "flavanoids = 0.109557\n",
      "nonflavanoid_phenols = 0.003483\n",
      "proanthocyanins = 0.024772\n",
      "color_intensity = 0.116838\n",
      "hue = 0.054403\n",
      "od280/od315_of_diluted_wines = 0.085498\n",
      "proline = 0.231650\n",
      "\n",
      "[n_estimators=10, max_depth=4]---------------\n",
      "Accuracy:  1.0\n",
      "Feature importance:\n",
      "alcohol = 0.069350\n",
      "malic_acid = 0.032484\n",
      "ash = 0.012436\n",
      "alcalinity_of_ash = 0.093735\n",
      "magnesium = 0.038590\n",
      "total_phenols = 0.032099\n",
      "flavanoids = 0.119738\n",
      "nonflavanoid_phenols = 0.004194\n",
      "proanthocyanins = 0.053080\n",
      "color_intensity = 0.067560\n",
      "hue = 0.094608\n",
      "od280/od315_of_diluted_wines = 0.160676\n",
      "proline = 0.221450\n",
      "\n",
      "[n_estimators=5, max_depth=4]---------------\n",
      "Accuracy:  0.9777777777777777\n",
      "Feature importance:\n",
      "alcohol = 0.103958\n",
      "malic_acid = 0.018905\n",
      "ash = 0.000000\n",
      "alcalinity_of_ash = 0.115782\n",
      "magnesium = 0.006744\n",
      "total_phenols = 0.024471\n",
      "flavanoids = 0.095132\n",
      "nonflavanoid_phenols = 0.011155\n",
      "proanthocyanins = 0.018959\n",
      "color_intensity = 0.146385\n",
      "hue = 0.027549\n",
      "od280/od315_of_diluted_wines = 0.235700\n",
      "proline = 0.195260\n",
      "\n",
      "[n_estimators=1, max_depth=4]---------------\n",
      "Accuracy:  0.9555555555555556\n",
      "Feature importance:\n",
      "alcohol = 0.000000\n",
      "malic_acid = 0.000000\n",
      "ash = 0.000000\n",
      "alcalinity_of_ash = 0.000000\n",
      "magnesium = 0.000000\n",
      "total_phenols = 0.003366\n",
      "flavanoids = 0.598674\n",
      "nonflavanoid_phenols = 0.000000\n",
      "proanthocyanins = 0.000000\n",
      "color_intensity = 0.044264\n",
      "hue = 0.100315\n",
      "od280/od315_of_diluted_wines = 0.000000\n",
      "proline = 0.253381\n"
     ]
    }
   ],
   "source": [
    "wine = datasets.load_wine()\n",
    "print(\"using wine dataset\")\n",
    "\n",
    "clf = RandomForestClassifier(n_estimators=15, max_depth=4)\n",
    "train_and_evaluate(clf, wine, name='n_estimators=15, max_depth=4')\n",
    "\n",
    "clf = RandomForestClassifier(n_estimators=10, max_depth=4)\n",
    "train_and_evaluate(clf, wine, name='n_estimators=10, max_depth=4')\n",
    "\n",
    "clf = RandomForestClassifier(n_estimators=5, max_depth=4)\n",
    "train_and_evaluate(clf, wine, name='n_estimators=5, max_depth=4')\n",
    "\n",
    "clf = RandomForestClassifier(n_estimators=1, max_depth=4)\n",
    "train_and_evaluate(clf, wine, name='n_estimators=1, max_depth=4')"
   ]
  },
  {
   "cell_type": "code",
   "execution_count": 20,
   "metadata": {},
   "outputs": [],
   "source": [
    "import numpy as np\n",
    "import matplotlib.pyplot as plt\n",
    "import pandas as pd\n",
    "from sklearn.datasets import load_digits\n",
    "from sklearn.preprocessing import StandardScaler\n",
    "from sklearn.metrics import confusion_matrix\n",
    "from sklearn import metrics\n",
    "import itertools\n"
   ]
  },
  {
   "cell_type": "markdown",
   "metadata": {},
   "source": [
    "#### 隨機森林分類--無調整任何參數"
   ]
  },
  {
   "cell_type": "code",
   "execution_count": 21,
   "metadata": {},
   "outputs": [
    {
     "name": "stderr",
     "output_type": "stream",
     "text": [
      "C:\\Users\\user\\Anaconda3\\lib\\site-packages\\sklearn\\ensemble\\forest.py:246: FutureWarning: The default value of n_estimators will change from 10 in version 0.20 to 100 in 0.22.\n",
      "  \"10 in version 0.20 to 100 in 0.22.\", FutureWarning)\n"
     ]
    },
    {
     "name": "stdout",
     "output_type": "stream",
     "text": [
      "Recall metric in the testing dataset : 0.9638888888888889\n",
      "accuracy metric in the testing dataset : 0.9632936382936383\n"
     ]
    },
    {
     "data": {
      "image/png": "[encoded data removed]",
      "text/plain": [
       "<Figure size 720x720 with 2 Axes>"
      ]
     },
     "metadata": {
      "needs_background": "light"
     },
     "output_type": "display_data"
    }
   ],
   "source": [
    "digits = load_digits()\n",
    "x_train, x_test, y_train, y_test = train_test_split(digits.data, digits.target, test_size=0.2, random_state=4)\n",
    "sc_X = StandardScaler()\n",
    "x_train = sc_X.fit_transform(x_train)\n",
    "x_test = sc_X.transform(x_test)\n",
    "classifier = RandomForestClassifier(criterion = 'entropy', random_state = 0 ) \n",
    "classifier.fit(x_train , y_train)\n",
    "y_pred = classifier.predict(x_test)\n",
    "\n",
    "print(\"Recall metric in the testing dataset : {}\"\\\n",
    "      .format(metrics.accuracy_score(y_test , y_pred)))\n",
    "print(\"accuracy metric in the testing dataset : {}\"\\\n",
    "      .format(metrics.precision_score(y_test , y_pred , average='macro')))\n",
    "\n",
    "def plot_confusion_matrix(cm, classes,\n",
    "                          title='Confusion matrix',\n",
    "                          cmap=plt.cm.Oranges):\n",
    "    \"\"\"\n",
    "    This function prints and plots the confusion matrix.\n",
    "    \"\"\"\n",
    "    plt.imshow(cm, interpolation='nearest', cmap=cmap)\n",
    "    plt.title(title)\n",
    "    plt.colorbar()\n",
    "    tick_marks = np.arange(len(classes))\n",
    "    plt.xticks(tick_marks, classes, rotation=0)\n",
    "    plt.yticks(tick_marks, classes)\n",
    "\n",
    "    thresh = cm.max() / 2.\n",
    "    for i, j in itertools.product(range(cm.shape[0]), range(cm.shape[1])):\n",
    "        plt.text(j, i, cm[i, j],\n",
    "                 horizontalalignment=\"center\",\n",
    "                 color=\"white\" if cm[i, j] > thresh else \"black\")\n",
    "\n",
    "    plt.tight_layout()\n",
    "    plt.ylabel('True label')\n",
    "    plt.xlabel('Predicted label')\n",
    "\n",
    "cnf_matrix = confusion_matrix(y_test , y_pred)\n",
    "class_names = [i for i in range(0 , 10)]\n",
    "plt.figure(figsize = (10 , 10))\n",
    "plot_confusion_matrix(cnf_matrix , \n",
    "                      classes = class_names , \n",
    "                      title = 'Confusion matrix')\n",
    "plt.show()"
   ]
  },
  {
   "cell_type": "markdown",
   "metadata": {},
   "source": [
    "#### 隨機森林分類--調整參數生成200棵樹"
   ]
  },
  {
   "cell_type": "code",
   "execution_count": 23,
   "metadata": {
    "scrolled": true
   },
   "outputs": [
    {
     "name": "stdout",
     "output_type": "stream",
     "text": [
      "Recall metric in the testing dataset : 0.9861111111111112\n",
      "accuracy metric in the testing dataset : 0.9856386624128561\n"
     ]
    },
    {
     "data": {
      "image/png": "[encoded data removed]",
      "text/plain": [
       "<Figure size 720x720 with 2 Axes>"
      ]
     },
     "metadata": {
      "needs_background": "light"
     },
     "output_type": "display_data"
    }
   ],
   "source": [
    "classifier = RandomForestClassifier(criterion = 'entropy' , \n",
    "                                    n_estimators = 200 ,\n",
    "                                    oob_score = True , \n",
    "                                    random_state = 0 ) \n",
    "classifier.fit(x_train , y_train)\n",
    "y_pred = classifier.predict(x_test)\n",
    "\n",
    "print(\"Recall metric in the testing dataset : {}\"\\\n",
    "      .format(metrics.accuracy_score(y_test , y_pred)))\n",
    "print(\"accuracy metric in the testing dataset : {}\"\\\n",
    "      .format(metrics.precision_score(y_test , y_pred , average='macro')))\n",
    "\n",
    "def plot_confusion_matrix(cm, classes,\n",
    "                          title='Confusion matrix',\n",
    "                          cmap=plt.cm.Oranges):\n",
    "    \"\"\"\n",
    "    This function prints and plots the confusion matrix.\n",
    "    \"\"\"\n",
    "    plt.imshow(cm, interpolation='nearest', cmap=cmap)\n",
    "    plt.title(title)\n",
    "    plt.colorbar()\n",
    "    tick_marks = np.arange(len(classes))\n",
    "    plt.xticks(tick_marks, classes, rotation=0)\n",
    "    plt.yticks(tick_marks, classes)\n",
    "\n",
    "    thresh = cm.max() / 2.\n",
    "    for i, j in itertools.product(range(cm.shape[0]), range(cm.shape[1])):\n",
    "        plt.text(j, i, cm[i, j],\n",
    "                 horizontalalignment=\"center\",\n",
    "                 color=\"white\" if cm[i, j] > thresh else \"black\")\n",
    "\n",
    "    plt.tight_layout()\n",
    "    plt.ylabel('True label')\n",
    "    plt.xlabel('Predicted label')\n",
    "\n",
    "cnf_matrix = confusion_matrix(y_test , y_pred)\n",
    "class_names = [i for i in range(0 , 10)]\n",
    "plt.figure(figsize = (10 , 10))\n",
    "plot_confusion_matrix(cnf_matrix , \n",
    "                      classes = class_names , \n",
    "                      title = 'Confusion matrix')\n",
    "plt.show()"
   ]
  },
  {
   "cell_type": "markdown",
   "metadata": {},
   "source": [
    "### 線性回歸與隨機森林回歸比較"
   ]
  },
  {
   "cell_type": "code",
   "execution_count": 24,
   "metadata": {},
   "outputs": [
    {
     "name": "stdout",
     "output_type": "stream",
     "text": [
      "The score of regressor : 0.7730135569264234\n",
      "Mean squared error : 33.44897999767653\n"
     ]
    }
   ],
   "source": [
    "boston = datasets.load_boston()\n",
    "x_train, x_test, y_train, y_test = train_test_split(boston.data, boston.target, test_size=0.2, random_state=0)\n",
    "regressor = LinearRegression()\n",
    "regressor.fit(x_train, y_train)\n",
    "y_pred = regressor.predict(x_test)\n",
    "outcome = pd.DataFrame({'true_value':y_test , 'predict_value':y_pred})\n",
    "print(\"The score of regressor : {}\"\\\n",
    "      .format(regressor.score(x_train, y_train)))\n",
    "print(\"Mean squared error : {}\"\\\n",
    "      .format(mean_squared_error(y_test, y_pred)))"
   ]
  },
  {
   "cell_type": "code",
   "execution_count": 25,
   "metadata": {},
   "outputs": [
    {
     "name": "stderr",
     "output_type": "stream",
     "text": [
      "C:\\Users\\user\\Anaconda3\\lib\\site-packages\\scipy\\stats\\stats.py:1713: FutureWarning: Using a non-tuple sequence for multidimensional indexing is deprecated; use `arr[tuple(seq)]` instead of `arr[seq]`. In the future this will be interpreted as an array index, `arr[np.array(seq)]`, which will result either in an error or a different result.\n",
      "  return np.add.reduce(sorted[indexer] * weights, axis=axis) / sumval\n"
     ]
    },
    {
     "data": {
      "text/plain": [
       "<matplotlib.axes._subplots.AxesSubplot at 0x25cc52f0b38>"
      ]
     },
     "execution_count": 25,
     "metadata": {},
     "output_type": "execute_result"
    },
    {
     "data": {
      "image/png": "[encoded data removed]",
      "text/plain": [
       "<Figure size 432x288 with 1 Axes>"
      ]
     },
     "metadata": {
      "needs_background": "light"
     },
     "output_type": "display_data"
    }
   ],
   "source": [
    "sns.kdeplot(outcome.iloc[: , 0] , shade=True, color=\"r\")\n",
    "sns.kdeplot(outcome.iloc[: , 1] , shade=True, color=\"g\")"
   ]
  },
  {
   "cell_type": "code",
   "execution_count": 26,
   "metadata": {},
   "outputs": [
    {
     "name": "stdout",
     "output_type": "stream",
     "text": [
      "The score of regressor : 0.9830861720759569\n",
      "Mean squared error : 20.19061800000002\n"
     ]
    }
   ],
   "source": [
    "regressor = RandomForestRegressor(n_estimators = 100 , oob_score = True)\n",
    "regressor.fit(x_train, y_train)\n",
    "y_pred = regressor.predict(x_test)\n",
    "outcome = pd.DataFrame({'true_value':y_test , 'predict_value':y_pred})\n",
    "print(\"The score of regressor : {}\"\\\n",
    "      .format(regressor.score(x_train, y_train)))\n",
    "print(\"Mean squared error : {}\"\\\n",
    "      .format(mean_squared_error(y_test, y_pred)))"
   ]
  },
  {
   "cell_type": "code",
   "execution_count": 27,
   "metadata": {},
   "outputs": [
    {
     "name": "stderr",
     "output_type": "stream",
     "text": [
      "C:\\Users\\user\\Anaconda3\\lib\\site-packages\\scipy\\stats\\stats.py:1713: FutureWarning: Using a non-tuple sequence for multidimensional indexing is deprecated; use `arr[tuple(seq)]` instead of `arr[seq]`. In the future this will be interpreted as an array index, `arr[np.array(seq)]`, which will result either in an error or a different result.\n",
      "  return np.add.reduce(sorted[indexer] * weights, axis=axis) / sumval\n"
     ]
    },
    {
     "data": {
      "text/plain": [
       "<matplotlib.axes._subplots.AxesSubplot at 0x25cc54fa0f0>"
      ]
     },
     "execution_count": 27,
     "metadata": {},
     "output_type": "execute_result"
    },
    {
     "data": {
      "image/png": "[encoded data removed]",
      "text/plain": [
       "<Figure size 432x288 with 1 Axes>"
      ]
     },
     "metadata": {
      "needs_background": "light"
     },
     "output_type": "display_data"
    }
   ],
   "source": [
    "sns.kdeplot(outcome.iloc[: , 0] , shade=True, color=\"r\")\n",
    "sns.kdeplot(outcome.iloc[: , 1] , shade=True, color=\"g\")"
   ]
  },
  {
   "cell_type": "code",
   "execution_count": null,
   "metadata": {},
   "outputs": [],
   "source": []
  }
 ],
 "metadata": {
  "kernelspec": {
   "display_name": "Python 3",
   "language": "python",
   "name": "python3"
  },
  "language_info": {
   "codemirror_mode": {
    "name": "ipython",
    "version": 3
   },
   "file_extension": ".py",
   "mimetype": "text/x-python",
   "name": "python",
   "nbconvert_exporter": "python",
   "pygments_lexer": "ipython3",
   "version": "3.7.1"
  }
 },
 "nbformat": 4,
 "nbformat_minor": 2
}
